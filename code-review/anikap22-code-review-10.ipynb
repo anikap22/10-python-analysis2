{
 "cells": [
  {
   "cell_type": "markdown",
   "metadata": {},
   "source": [
    "## Code Review for meairey"
   ]
  },
  {
   "cell_type": "markdown",
   "metadata": {},
   "source": [
    "### What method did they use to generate data? What types of distributions did they sample data from? What type of data do these distributions generate?"
   ]
  },
  {
   "cell_type": "markdown",
   "metadata": {},
   "source": [
    "This person tried two different models. I am basing the code review on the simple regression portion at the top of the assignment. She generated data by selecting from a normal distribution. The code for doing this is:\n",
    "```\n",
    "X1 = np.random.normal(5,20, nsize)\n",
    "X2 = np.random.normal(5,1, nsize)\n",
    "e = np.random.normal(0,true_error, nsize)\n",
    "```\n",
    "So the x1 were generated from a normal distribution with a mean of 5 and standard deviation of 20. The x2 were also generated from a normal distriution but with a mean of 5 and a standard deviation of 1. The error was also generated from a random distribution centered at 0 with a standard deviation equal to the true error. These distributions generate an array of values that are drawn from the normal distribution"
   ]
  },
  {
   "cell_type": "markdown",
   "metadata": {},
   "source": [
    "### What type of model did they try to fit with pymc3? Did they link to the tutorial that their analysis is based on. Which parameters of the model are they trying to fit"
   ]
  },
  {
   "cell_type": "markdown",
   "metadata": {},
   "source": [
    "The pymc3 tried to fit a linear regression model with normally distributed priors. The code for this was:\n",
    "```\n",
    "alpha = pm.Normal('alpha', mu=0, sd=20)\n",
    "betas = pm.Normal('betas', mu=0, sd=1, shape=2)\n",
    "sigma = pm.HalfNormal('sigma', sd=.5)\n",
    "mu = alpha + betas[0]*X1 + betas[1]*X2\n",
    "```\n",
    "Though they did not link to the tutorial, it looks like it came from the linear regression tutorial that we did in class. The parameters they are trying to fit include alpha, beta1, and beta2. "
   ]
  },
  {
   "cell_type": "markdown",
   "metadata": {},
   "source": [
    "### Are they sampling data in their model from the same type of distribution that was used to generate the data?"
   ]
  },
  {
   "cell_type": "markdown",
   "metadata": {},
   "source": [
    "Yes, the sampling data is from the same type of distribution that was used to generate the data (the normal distribution)."
   ]
  },
  {
   "cell_type": "markdown",
   "metadata": {},
   "source": [
    "### Do you agree or disagree with their assessment of the model fit? Did it work well? How might you suggest improving the model, or further testing this type of model?"
   ]
  },
  {
   "cell_type": "markdown",
   "metadata": {},
   "source": [
    "Yes, I agree with their model fit assessment. She looked at the 95% HPD, standard deviation, and similarity between predicted and generated parameters. Furthermore, the trace plots show good agreement. This model could still be improved by changing some of the distributions away from the normal to test more complex data distributions. "
   ]
  },
  {
   "cell_type": "code",
   "execution_count": null,
   "metadata": {},
   "outputs": [],
   "source": []
  }
 ],
 "metadata": {
  "kernelspec": {
   "display_name": "Python 3",
   "language": "python",
   "name": "python3"
  },
  "language_info": {
   "codemirror_mode": {
    "name": "ipython",
    "version": 3
   },
   "file_extension": ".py",
   "mimetype": "text/x-python",
   "name": "python",
   "nbconvert_exporter": "python",
   "pygments_lexer": "ipython3",
   "version": "3.6.3"
  }
 },
 "nbformat": 4,
 "nbformat_minor": 2
}
